{
 "cells": [
  {
   "cell_type": "markdown",
   "metadata": {},
   "source": [
    "# Brain Tumor Detection using Image Processing"
   ]
  },
  {
   "cell_type": "markdown",
   "metadata": {},
   "source": [
    "# Import packages"
   ]
  },
  {
   "cell_type": "code",
   "execution_count": 12,
   "metadata": {},
   "outputs": [],
   "source": [
    "import numpy as np\n",
    "import torch\n",
    "from torch.utils.data import Dataset, DataLoader, ConcatDataset\n",
    "import glob\n",
    "import matplotlib.pyplot as plt\n",
    "from sklearn.metrics import confusion_matrix, accuracy_score\n",
    "import random\n",
    "import cv2\n",
    "import sys"
   ]
  },
  {
   "cell_type": "markdown",
   "metadata": {},
   "source": [
    "## Reading the Images"
   ]
  },
  {
   "cell_type": "code",
   "execution_count": 2,
   "metadata": {},
   "outputs": [],
   "source": [
    "tumor = []\n",
    "healthy = []\n",
    "for f in glob.iglob(\"./data/brain_tumor_dataset/yes/*.jpg\"):\n",
    "    img = cv2.imread(f)\n",
    "    img = cv2.resize(img,(128,128))\n",
    "    b, g, r = cv2.split(img)\n",
    "    img = cv2.merge([r,g,b])\n",
    "    tumor.append(img)\n",
    "\n",
    "for f in glob.iglob(\"./data/brain_tumor_dataset/no/*.jpg\"):\n",
    "    img = cv2.imread(f)\n",
    "    img = cv2.resize(img,(128,128)) \n",
    "    b, g, r = cv2.split(img)\n",
    "    img = cv2.merge([r,g,b])\n",
    "    healthy.append(img)"
   ]
  },
  {
   "cell_type": "code",
   "execution_count": 3,
   "metadata": {},
   "outputs": [],
   "source": [
    "healthy = np.array(healthy)\n",
    "tumor = np.array(tumor)\n",
    "All = np.concatenate((healthy, tumor))"
   ]
  },
  {
   "cell_type": "code",
   "execution_count": 4,
   "metadata": {},
   "outputs": [
    {
     "data": {
      "text/plain": [
       "(91, 128, 128, 3)"
      ]
     },
     "execution_count": 4,
     "metadata": {},
     "output_type": "execute_result"
    }
   ],
   "source": [
    "healthy.shape"
   ]
  },
  {
   "cell_type": "code",
   "execution_count": 5,
   "metadata": {},
   "outputs": [
    {
     "data": {
      "text/plain": [
       "(154, 128, 128, 3)"
      ]
     },
     "execution_count": 5,
     "metadata": {},
     "output_type": "execute_result"
    }
   ],
   "source": [
    "tumor.shape"
   ]
  },
  {
   "cell_type": "code",
   "execution_count": 6,
   "metadata": {},
   "outputs": [
    {
     "data": {
      "text/plain": [
       "array([3, 0, 5, 8, 7])"
      ]
     },
     "execution_count": 6,
     "metadata": {},
     "output_type": "execute_result"
    }
   ],
   "source": [
    "np.random.choice(10, 5, replace=False)"
   ]
  },
  {
   "cell_type": "markdown",
   "metadata": {},
   "source": [
    "# Visualizing Brain MRI Images"
   ]
  },
  {
   "cell_type": "code",
   "execution_count": 7,
   "metadata": {},
   "outputs": [],
   "source": [
    "def plot_random(healthy, tumor, num=5):\n",
    "    healthy_imgs = healthy[np.random.choice(healthy.shape[0], num, replace=False)]\n",
    "    tumor_imgs = tumor[np.random.choice(tumor.shape[0], num, replace=False)]\n",
    "    \n",
    "    plt.figure(figsize=(16,9))\n",
    "    for i in range(num):\n",
    "        plt.subplot(1, num, i+1)\n",
    "        plt.title('healthy')\n",
    "        plt.imshow(healthy_imgs[i])\n",
    "        \n",
    "    plt.figure(figsize=(16,9))\n",
    "    for i in range(num):\n",
    "        plt.subplot(1, num, i+1)\n",
    "        plt.title('tumor')\n",
    "        plt.imshow(tumor_imgs[i])\n",
    "        \n",
    "        \n",
    "\n",
    "    "
   ]
  },
  {
   "cell_type": "code",
   "execution_count": null,
   "metadata": {},
   "outputs": [],
   "source": [
    "plot_random(healthy, tumor, num=5)"
   ]
  },
  {
   "cell_type": "markdown",
   "metadata": {},
   "source": [
    " # Create Torch Dataset Class"
   ]
  },
  {
   "cell_type": "markdown",
   "metadata": {},
   "source": [
    "## What is Pytorch's Abstract Dataset Class"
   ]
  },
  {
   "cell_type": "code",
   "execution_count": 9,
   "metadata": {},
   "outputs": [],
   "source": [
    "class Dataset(object):\n",
    "    \"\"\"An abstract class representing a Dataset.\n",
    "\n",
    "    All other datasets should subclass it. All subclasses should override\n",
    "    ``__len__``, that provides the size of the dataset, and ``__getitem__``,\n",
    "    supporting integer indexing in range from 0 to len(self) exclusive.\n",
    "    \"\"\"\n",
    "\n",
    "    def __getitem__(self, index):\n",
    "        raise NotImplementedError\n",
    "\n",
    "    def __len__(self):\n",
    "        raise NotImplementedError\n",
    "\n",
    "    def __add__(self, other):\n",
    "        return ConcatDataset([self, other])"
   ]
  },
  {
   "cell_type": "markdown",
   "metadata": {},
   "source": [
    "## Creating MRI cutom dataset class "
   ]
  },
  {
   "cell_type": "code",
   "execution_count": 10,
   "metadata": {},
   "outputs": [],
   "source": [
    "class MRI(Dataset):\n",
    "    def __init__(self):\n",
    "        self.X_train, self.y_train, self.X_val, self.y_val = None, None, None, None\n",
    "        self.mode = 'train'\n",
    "        tumor = []\n",
    "        healthy = []\n",
    "        for f in glob.iglob(\"./data/brain_tumor_dataset/yes/*.jpg\"):\n",
    "            img = cv2.imread(f)\n",
    "            img = cv2.resize(img,(128,128))\n",
    "            b, g, r = cv2.split(img)\n",
    "            img = cv2.merge([r,g,b])\n",
    "            img = img.reshape((img.shape[2],img.shape[0],img.shape[1]))\n",
    "            tumor.append(img)\n",
    "        for f in glob.iglob(\"./data/brain_tumor_dataset/no/*.jpg\"):\n",
    "            img = cv2.imread(f)\n",
    "            img = cv2.resize(img,(128,128))\n",
    "            b, g, r = cv2.split(img)\n",
    "            img = cv2.merge([r,g,b])\n",
    "            img = img.reshape((img.shape[2],img.shape[0],img.shape[1]))\n",
    "            healthy.append(img)\n",
    "        tumor = np.array(tumor,dtype=np.float32)\n",
    "        healthy = np.array(healthy,dtype=np.float32)\n",
    "        tumor_label = np.ones(tumor.shape[0], dtype=np.float32)\n",
    "        healthy_label = np.zeros(healthy.shape[0], dtype=np.float32)\n",
    "        self.images = np.concatenate((tumor, healthy), axis=0)\n",
    "        self.labels = np.concatenate((tumor_label, healthy_label))\n",
    "        self.new_images = []\n",
    "        for f in glob.iglob(\"./data/new_image/*.jpg\"):\n",
    "            img = cv2.imread(f)\n",
    "            img = cv2.resize(img,(128,128))\n",
    "            b, g, r = cv2.split(img)\n",
    "            img = cv2.merge([r,g,b])\n",
    "            img = img.reshape((img.shape[2],img.shape[0],img.shape[1]))\n",
    "            self.new_images.append(img)\n",
    "\n",
    "    def train_val_split(self):\n",
    "        self.X_train, self.X_val, self.y_train, self.y_val = \\\n",
    "            train_test_split(self.images, self.labels, test_size=0.20, random_state=42)\n",
    "\n",
    "    def __len__(self):\n",
    "        if self.mode == 'train':\n",
    "            return self.X_train.shape[0]\n",
    "        elif self.mode == 'val':\n",
    "            return self.X_val.shape[0]\n",
    "\n",
    "    def __getitem__(self, idx):\n",
    "        if self.mode== 'train':\n",
    "            sample = {'image': self.X_train[idx], 'label': self.y_train[idx]}\n",
    "        elif self.mode== 'val':\n",
    "            sample = {'image': self.X_val[idx], 'label': self.y_val[idx]}\n",
    "        return sample\n",
    "\n",
    "    def normalize(self):\n",
    "        self.images = self.images/255.0\n",
    "\n"
   ]
  },
  {
   "cell_type": "code",
   "execution_count": 11,
   "metadata": {},
   "outputs": [],
   "source": [
    "mri_dataset = MRI()\n",
    "mri_dataset.normalize()"
   ]
  },
  {
   "cell_type": "markdown",
   "metadata": {},
   "source": [
    "# Creating a dataloader"
   ]
  },
  {
   "cell_type": "code",
   "execution_count": null,
   "metadata": {},
   "outputs": [],
   "source": [
    "# One way of iterating\n",
    "names={0:'Heathy', 1:'Tumor'}\n",
    "dataloader = DataLoader(mri_dataset, shuffle=True)\n",
    "for i, sample in enumerate(dataloader):\n",
    "    img = sample['image'].squeeze()\n",
    "    img = img.reshape((img.shape[1], img.shape[2], img.shape[0]))\n",
    "    plt.title(names[sample['label'].item()])\n",
    "    plt.imshow(img)\n",
    "    plt.show()\n",
    "    if i == 5:\n",
    "        break"
   ]
  },
  {
   "cell_type": "markdown",
   "metadata": {},
   "source": [
    "# Create a model"
   ]
  },
  {
   "cell_type": "code",
   "execution_count": 2,
   "metadata": {},
   "outputs": [],
   "source": [
    "import torch.nn as nn\n",
    "import torch.nn.functional as F\n",
    "\n",
    "class CNN(nn.Module):\n",
    "    def __init__(self):\n",
    "        super(CNN,self).__init__()\n",
    "        self.cnn_model = nn.Sequential(\n",
    "        nn.Conv2d(in_channels=3, out_channels=6, kernel_size=5),\n",
    "        nn.Tanh(),\n",
    "        nn.AvgPool2d(kernel_size=2, stride=5),\n",
    "        nn.Conv2d(in_channels=6, out_channels=16, kernel_size=5),\n",
    "        nn.Tanh(),\n",
    "        nn.AvgPool2d(kernel_size=2, stride=5))\n",
    "        \n",
    "        self.fc_model = nn.Sequential(\n",
    "        nn.Linear(in_features=256, out_features=120),\n",
    "        nn.Tanh(),\n",
    "        nn.Linear(in_features=120, out_features=84),\n",
    "        nn.Tanh(),\n",
    "        nn.Linear(in_features=84, out_features=1))\n",
    "        \n",
    "    def forward(self, x):\n",
    "        x = self.cnn_model(x)\n",
    "        x = x.view(x.size(0), -1)\n",
    "        x = self.fc_model(x)\n",
    "        x = F.sigmoid(x)\n",
    "        \n",
    "        return x\n",
    "            "
   ]
  },
  {
   "cell_type": "markdown",
   "metadata": {},
   "source": [
    "# Some Basics of Training and Evaluation in Pytorch"
   ]
  },
  {
   "cell_type": "code",
   "execution_count": null,
   "metadata": {},
   "outputs": [],
   "source": [
    "# device will be 'cuda' if a GPU is available\n",
    "device = torch.device('cuda' if torch.cuda.is_available() else 'cpu')\n",
    "\n",
    "# creating a CPU tensor\n",
    "cpu_tensor = torch.rand(10).to(device)\n",
    "# moving same tensor to GPU\n",
    "gpu_tensor = cpu_tensor.to(device)\n",
    "\n",
    "print(cpu_tensor, cpu_tensor.dtype, type(cpu_tensor), cpu_tensor.type())\n",
    "print(gpu_tensor, gpu_tensor.dtype, type(gpu_tensor), gpu_tensor.type())\n",
    "\n",
    "print(cpu_tensor*gpu_tensor)"
   ]
  },
  {
   "cell_type": "markdown",
   "metadata": {},
   "source": [
    "# Evaluate a New-Born Neural Network!"
   ]
  },
  {
   "cell_type": "code",
   "execution_count": 14,
   "metadata": {},
   "outputs": [],
   "source": [
    "mri_dataset = MRI()\n",
    "mri_dataset.normalize()\n",
    "device = torch.device('cuda:0')\n",
    "model = CNN().to(device)"
   ]
  },
  {
   "cell_type": "code",
   "execution_count": 15,
   "metadata": {},
   "outputs": [],
   "source": [
    "dataloader = DataLoader(mri_dataset, batch_size=32, shuffle=False)"
   ]
  },
  {
   "cell_type": "code",
   "execution_count": null,
   "metadata": {},
   "outputs": [],
   "source": [
    "model.eval()\n",
    "outputs = []\n",
    "y_true = []\n",
    "with torch.no_grad():\n",
    "    for D in dataloader:\n",
    "        image = D['image'].to(device)\n",
    "        label = D['label'].to(device)\n",
    "\n",
    "        y_hat = model(image)\n",
    "\n",
    "        outputs.append(y_hat.cpu().detach().numpy())\n",
    "        y_true.append(label.cpu().detach().numpy())"
   ]
  },
  {
   "cell_type": "code",
   "execution_count": 17,
   "metadata": {},
   "outputs": [],
   "source": [
    "outputs = np.concatenate( outputs, axis=0 ).squeeze()\n",
    "y_true = np.concatenate( y_true, axis=0 ).squeeze()"
   ]
  },
  {
   "cell_type": "code",
   "execution_count": 18,
   "metadata": {},
   "outputs": [],
   "source": [
    "def threshold(scores,threshold=0.50, minimum=0, maximum = 1.0):\n",
    "    x = np.array(list(scores))\n",
    "    x[x >= threshold] = maximum\n",
    "    x[x < threshold] = minimum\n",
    "    return x"
   ]
  },
  {
   "cell_type": "code",
   "execution_count": null,
   "metadata": {},
   "outputs": [],
   "source": [
    "accuracy_score(y_true, threshold(outputs))"
   ]
  },
  {
   "cell_type": "code",
   "execution_count": null,
   "metadata": {},
   "outputs": [],
   "source": [
    "# a better confusion matrix\n",
    "import seaborn as sns\n",
    "\n",
    "plt.figure(figsize=(16,9))\n",
    "cm = confusion_matrix(y_true, threshold(outputs))\n",
    "ax= plt.subplot()\n",
    "sns.heatmap(cm, annot=True, fmt='g', ax=ax, annot_kws={\"size\": 20})\n",
    "\n",
    "# labels, title and ticks\n",
    "ax.set_xlabel('Predicted labels', fontsize=20)\n",
    "ax.set_ylabel('True labels', fontsize=20) \n",
    "ax.set_title('Confusion Matrix', fontsize=20)\n",
    "ax.xaxis.set_ticklabels(['Healthy','Tumor'], fontsize=20)\n",
    "ax.yaxis.set_ticklabels(['Tumor','Healthy'], fontsize=20)"
   ]
  },
  {
   "cell_type": "code",
   "execution_count": null,
   "metadata": {},
   "outputs": [],
   "source": [
    "plt.figure(figsize=(16,9))\n",
    "plt.plot(outputs)\n",
    "plt.axvline(x=len(tumor), color='r', linestyle='--')\n",
    "plt.grid()"
   ]
  },
  {
   "cell_type": "markdown",
   "metadata": {},
   "source": [
    "# Train the dumb model"
   ]
  },
  {
   "cell_type": "code",
   "execution_count": null,
   "metadata": {},
   "outputs": [],
   "source": [
    "eta = 0.0001\n",
    "EPOCH = 400\n",
    "optimizer = torch.optim.Adam(model.parameters(), lr=eta)\n",
    "dataloader = DataLoader(mri_dataset, batch_size=32, shuffle=True)\n",
    "model.train()"
   ]
  },
  {
   "cell_type": "code",
   "execution_count": null,
   "metadata": {},
   "outputs": [],
   "source": [
    "for epoch in range(1, EPOCH):\n",
    "    losses = []\n",
    "    for D in dataloader:\n",
    "        optimizer.zero_grad()\n",
    "        data = D['image'].to(device)\n",
    "        label = D['label'].to(device)\n",
    "        y_hat = model(data)\n",
    "        # define loss function\n",
    "        error = nn.BCELoss() \n",
    "        loss = torch.sum(error(y_hat.squeeze(), label))\n",
    "        loss.backward()\n",
    "        optimizer.step()\n",
    "        losses.append(loss.item())\n",
    "    if (epoch+1) % 10 == 0:\n",
    "        print('Train Epoch: {}\\tLoss: {:.6f}'.format(epoch+1, np.mean(losses)))"
   ]
  },
  {
   "cell_type": "markdown",
   "metadata": {},
   "source": [
    "# Evaluate a smart model"
   ]
  },
  {
   "cell_type": "code",
   "execution_count": null,
   "metadata": {},
   "outputs": [],
   "source": [
    "model.eval()\n",
    "dataloader = DataLoader(mri_dataset, batch_size=32, shuffle=False)\n",
    "outputs=[]\n",
    "y_true = []\n",
    "with torch.no_grad():\n",
    "    for D in dataloader:\n",
    "        image =  D['image'].to(device)\n",
    "        label = D['label'].to(device)\n",
    "        \n",
    "        y_hat = model(image)\n",
    "        \n",
    "        outputs.append(y_hat.cpu().detach().numpy())\n",
    "        y_true.append(label.cpu().detach().numpy())\n",
    "        \n",
    "outputs = np.concatenate( outputs, axis=0 )\n",
    "y_true = np.concatenate( y_true, axis=0 )"
   ]
  },
  {
   "cell_type": "code",
   "execution_count": null,
   "metadata": {},
   "outputs": [],
   "source": [
    "accuracy_score(y_true, threshold(outputs))"
   ]
  },
  {
   "cell_type": "code",
   "execution_count": null,
   "metadata": {},
   "outputs": [],
   "source": [
    "cm = confusion_matrix(y_true, threshold(outputs))\n",
    "plt.figure(figsize=(16,9))\n",
    "\n",
    "ax= plt.subplot()\n",
    "sns.heatmap(cm, annot=True, fmt='g', ax=ax);  #annot=True to annotate cells, ftm='g' to disable scientific notation\n",
    "\n",
    "# labels, title and ticks\n",
    "ax.set_xlabel('Predicted labels');ax.set_ylabel('True labels'); \n",
    "ax.set_title('Confusion Matrix'); \n",
    "ax.xaxis.set_ticklabels(['Tumor','Healthy'])\n",
    "ax.yaxis.set_ticklabels(['Tumor','Healthy'])"
   ]
  },
  {
   "cell_type": "code",
   "execution_count": null,
   "metadata": {},
   "outputs": [],
   "source": [
    "plt.figure(figsize=(16,9))\n",
    "plt.plot(outputs)\n",
    "plt.axvline(x=len(tumor), color='r', linestyle='--')\n",
    "plt.grid()"
   ]
  },
  {
   "cell_type": "markdown",
   "metadata": {},
   "source": [
    "# Visualising the Feature Maps of the Convolutional Filters"
   ]
  },
  {
   "cell_type": "code",
   "execution_count": null,
   "metadata": {},
   "outputs": [],
   "source": [
    "model"
   ]
  },
  {
   "cell_type": "code",
   "execution_count": 30,
   "metadata": {},
   "outputs": [],
   "source": [
    "no_of_layers = 0\n",
    "conv_layers = []"
   ]
  },
  {
   "cell_type": "code",
   "execution_count": null,
   "metadata": {},
   "outputs": [],
   "source": [
    "model_children = list(model.children())\n",
    "model_children"
   ]
  },
  {
   "cell_type": "code",
   "execution_count": 36,
   "metadata": {},
   "outputs": [],
   "source": [
    "for child in model_children:\n",
    "    if type(child) == nn.Sequential:\n",
    "        for layer in child.children():\n",
    "            if type(layer) == nn.Conv2d:\n",
    "                no_of_layers += 1\n",
    "                conv_layers.append(layer)"
   ]
  },
  {
   "cell_type": "code",
   "execution_count": null,
   "metadata": {},
   "outputs": [],
   "source": [
    "conv_layers"
   ]
  },
  {
   "cell_type": "code",
   "execution_count": null,
   "metadata": {},
   "outputs": [],
   "source": [
    "img = mri_dataset[100]['image']\n",
    "plt.imshow(img.reshape(128,128,3))"
   ]
  },
  {
   "cell_type": "code",
   "execution_count": 41,
   "metadata": {},
   "outputs": [],
   "source": [
    "img = torch.from_numpy(img).to(device)"
   ]
  },
  {
   "cell_type": "code",
   "execution_count": null,
   "metadata": {},
   "outputs": [],
   "source": [
    "img.shape"
   ]
  },
  {
   "cell_type": "code",
   "execution_count": null,
   "metadata": {},
   "outputs": [],
   "source": [
    "img = img.unsqueeze(0)\n",
    "img.shape"
   ]
  },
  {
   "cell_type": "code",
   "execution_count": 49,
   "metadata": {},
   "outputs": [],
   "source": [
    "results = [conv_layers[0](img)]\n",
    "for i in range(1, len(conv_layers)):\n",
    "    results.append(conv_layers[i](results[-1]))\n",
    "outputs = results"
   ]
  },
  {
   "cell_type": "code",
   "execution_count": null,
   "metadata": {},
   "outputs": [],
   "source": [
    "for num_layer in range(len(outputs)):\n",
    "    plt.figure(figsize=(50, 10))\n",
    "    layer_viz = outputs[num_layer].squeeze()\n",
    "    print(\"Layer \",num_layer+1)\n",
    "    for i, f in enumerate(layer_viz):\n",
    "        plt.subplot(2, 8, i + 1)\n",
    "        plt.imshow(f.detach().cpu().numpy())\n",
    "        plt.axis(\"off\")\n",
    "    plt.show()\n",
    "    plt.close()"
   ]
  },
  {
   "cell_type": "markdown",
   "metadata": {},
   "source": [
    "# Are We Over-fitting?"
   ]
  },
  {
   "cell_type": "code",
   "execution_count": null,
   "metadata": {},
   "outputs": [],
   "source": [
    "# Import train/test split function from sklearn\n",
    "from sklearn.model_selection import train_test_split"
   ]
  },
  {
   "cell_type": "markdown",
   "metadata": {},
   "source": [
    "## Preparing a validation set: We need to change the MRI dataset slightly!"
   ]
  },
  {
   "cell_type": "code",
   "execution_count": 38,
   "metadata": {},
   "outputs": [],
   "source": [
    "class MRI(Dataset):\n",
    "    \n",
    "    def __init__(self):\n",
    "        \n",
    "        # Variables to hold the Training data and Validation data\n",
    "        self.X_train, self.y_train, self.X_val, self.y_val = None, None, None, None\n",
    "        \n",
    "        # A variable to determine if we are interested in retrieving the training OR the validation data\n",
    "        self.mode = 'train'\n",
    "        \n",
    "        tumor = []\n",
    "        healthy = []\n",
    "        # cv2 - It reads in BGR format by default\n",
    "        for f in glob.iglob(\"./data/brain_tumor_dataset/yes/*.jpg\"):\n",
    "            img = cv2.imread(f)\n",
    "            img = cv2.resize(img,(128,128)) # I can add this later in the boot-camp for more adventure\n",
    "            b, g, r = cv2.split(img)\n",
    "            img = cv2.merge([r,g,b])\n",
    "            img = img.reshape((img.shape[2],img.shape[0],img.shape[1])) # otherwise the shape will be (h,w,#channels)\n",
    "            tumor.append(img)\n",
    "\n",
    "        for f in glob.iglob(\"./data/brain_tumor_dataset/no/*.jpg\"):\n",
    "            img = cv2.imread(f)\n",
    "            img = cv2.resize(img,(128,128)) \n",
    "            b, g, r = cv2.split(img)\n",
    "            img = cv2.merge([r,g,b])\n",
    "            img = img.reshape((img.shape[2],img.shape[0],img.shape[1]))\n",
    "            healthy.append(img)\n",
    "\n",
    "        # our images\n",
    "        tumor = np.array(tumor,dtype=np.float32)\n",
    "        healthy = np.array(healthy,dtype=np.float32)\n",
    "        \n",
    "        # our labels\n",
    "        tumor_label = np.ones(tumor.shape[0], dtype=np.float32)\n",
    "        healthy_label = np.zeros(healthy.shape[0], dtype=np.float32)\n",
    "        \n",
    "        # Concatenates\n",
    "        self.images = np.concatenate((tumor, healthy), axis=0)\n",
    "        self.labels = np.concatenate((tumor_label, healthy_label))\n",
    "    \n",
    "    # Define a function that would separate the data into Training and Validation sets\n",
    "    def train_val_split(self):\n",
    "        self.X_train, self.X_val, self.y_train, self.y_val = \\\n",
    "        train_test_split(self.images, self.labels, test_size=0.20, random_state=42)\n",
    "        \n",
    "    def __len__(self):\n",
    "        # Use self.mode to deetrmine whether train or val data is of interest\n",
    "        if self.mode == 'train':\n",
    "            return self.X_train.shape[0]\n",
    "        elif self.mode == 'val':\n",
    "            return self.X_val.shape[0]\n",
    "    \n",
    "    def __getitem__(self, idx):\n",
    "        # Use self.mode to deetrmine whether train or val data is of interest\n",
    "        if self.mode== 'train':\n",
    "            sample = {'image': self.X_train[idx], 'label': self.y_train[idx]}\n",
    "        \n",
    "        elif self.mode== 'val':\n",
    "            sample = {'image': self.X_val[idx], 'label': self.y_val[idx]}\n",
    "        \n",
    "        return sample\n",
    "    \n",
    "    def normalize(self):\n",
    "        self.images = self.images/255.0"
   ]
  },
  {
   "cell_type": "markdown",
   "metadata": {},
   "source": [
    "# Are we overfitting?"
   ]
  },
  {
   "cell_type": "code",
   "execution_count": 39,
   "metadata": {},
   "outputs": [],
   "source": [
    "mri_dataset = MRI()\n",
    "mri_dataset.normalize()\n",
    "mri_dataset.train_val_split()"
   ]
  },
  {
   "cell_type": "code",
   "execution_count": 40,
   "metadata": {},
   "outputs": [],
   "source": [
    "train_dataloader = DataLoader(mri_dataset, batch_size=32, shuffle=True)\n",
    "val_dataloader = DataLoader(mri_dataset, batch_size=32, shuffle=False)"
   ]
  },
  {
   "cell_type": "code",
   "execution_count": 41,
   "metadata": {},
   "outputs": [],
   "source": [
    "device = torch.device(\"cuda:0\")\n",
    "model = CNN().to(device)"
   ]
  },
  {
   "cell_type": "code",
   "execution_count": 42,
   "metadata": {},
   "outputs": [],
   "source": [
    "eta=0.0001\n",
    "optimizer = torch.optim.Adam(model.parameters(), lr=eta)"
   ]
  },
  {
   "cell_type": "code",
   "execution_count": 43,
   "metadata": {},
   "outputs": [],
   "source": [
    "# keep track of epoch losses\n",
    "epoch_train_loss = []\n",
    "epoch_val_loss = []"
   ]
  },
  {
   "cell_type": "code",
   "execution_count": null,
   "metadata": {},
   "outputs": [],
   "source": [
    "for epoch in range(1,600):\n",
    "    train_losses = []\n",
    "    # train for the current epoch\n",
    "    model.train()\n",
    "    mri_dataset.mode = 'train'\n",
    "    for D in train_dataloader:\n",
    "        # Train the model\n",
    "        optimizer.zero_grad()\n",
    "        data = D['image'].to(device)\n",
    "        label = D['label'].to(device)\n",
    "        \n",
    "        y_hat = model(data)\n",
    "        error = nn.BCELoss()\n",
    "        loss = torch.sum(error(y_hat.squeeze(), label))\n",
    "        loss.backward()\n",
    "        optimizer.step()\n",
    "        train_losses.append(loss.item())\n",
    "    \n",
    "    epoch_train_loss.append(np.mean(train_losses))\n",
    "    \n",
    "    # validate for the current epoch\n",
    "    val_losses = []\n",
    "    model.eval()\n",
    "    \n",
    "    mri_dataset.mode = 'val'\n",
    "    \n",
    "    with torch.no_grad():\n",
    "        for D in val_dataloader:            \n",
    "            data = D['image'].to(device)\n",
    "            label = D['label'].to(device)\n",
    "            y_hat = model(data)\n",
    "            error = nn.BCELoss()\n",
    "            loss = torch.sum(error(y_hat.squeeze(), label))\n",
    "            val_losses.append(loss.item())\n",
    "    \n",
    "    epoch_val_loss.append(np.mean(val_losses))\n",
    "    \n",
    "    if (epoch+1) % 10 == 0:\n",
    "        print('Train Epoch: {}\\tTrain Loss: {:.6f}\\tVal Loss: {:.6f}'.format(epoch+1, np.mean(train_losses),np.mean(val_losses)))\n",
    "    "
   ]
  },
  {
   "cell_type": "code",
   "execution_count": null,
   "metadata": {},
   "outputs": [],
   "source": [
    "plt.figure(figsize=(16,9))\n",
    "plt.plot(epoch_train_loss, c='b', label='Train loss')\n",
    "plt.plot(epoch_val_loss, c='r', label = 'Validation loss')\n",
    "plt.legend()\n",
    "plt.grid()\n",
    "plt.xlabel('Epochs', fontsize=20)\n",
    "plt.ylabel('Loss', fontsize=20)"
   ]
  },
  {
   "cell_type": "code",
   "execution_count": null,
   "metadata": {},
   "outputs": [],
   "source": []
  }
 ],
 "metadata": {
  "kernelspec": {
   "display_name": "Python 3 (ipykernel)",
   "language": "python",
   "name": "python3"
  },
  "language_info": {
   "codemirror_mode": {
    "name": "ipython",
    "version": 3
   },
   "file_extension": ".py",
   "mimetype": "text/x-python",
   "name": "python",
   "nbconvert_exporter": "python",
   "pygments_lexer": "ipython3",
   "version": "3.12.4"
  }
 },
 "nbformat": 4,
 "nbformat_minor": 4
}
